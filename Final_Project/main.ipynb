{
 "cells": [
  {
   "cell_type": "markdown",
   "id": "ac74bbcc-4673-413b-8873-131afbcb1b8a",
   "metadata": {},
   "source": [
    "# CISC3024 Machine Learning Final Project\n",
    "- Title: Wound Detection\n",
    "- Groupmates: Huang Yanzhen DC126732, Yang Zhihan DC127992"
   ]
  },
  {
   "cell_type": "code",
   "execution_count": 1,
   "id": "initial_id",
   "metadata": {
    "ExecuteTime": {
     "end_time": "2024-11-28T13:02:09.380143100Z",
     "start_time": "2024-11-28T13:02:06.422500200Z"
    }
   },
   "outputs": [],
   "source": [
    "# Basics\n",
    "import os\n",
    "import copy\n",
    "import time\n",
    "from itertools import product\n",
    "from typing import List, Callable, Any, Union\n",
    "\n",
    "# Pre-processing\n",
    "import matplotlib.pyplot as plt\n",
    "from PIL import Image\n",
    "import numpy as np\n",
    "from sklearn.metrics import mean_squared_error\n",
    "import pandas as pd\n",
    "\n",
    "# Model Training\n",
    "import pickle\n",
    "from sklearn.ensemble import RandomForestRegressor\n",
    "from sklearn.model_selection import KFold"
   ]
  },
  {
   "cell_type": "markdown",
   "id": "628b1694-c5c4-4732-8ea9-b20bc5ec2a5f",
   "metadata": {},
   "source": [
    "### Data Retrieval"
   ]
  },
  {
   "cell_type": "code",
   "execution_count": 2,
   "id": "50b6985b52e7ca13",
   "metadata": {
    "collapsed": false,
    "ExecuteTime": {
     "end_time": "2024-11-28T13:02:11.291242400Z",
     "start_time": "2024-11-28T13:02:11.276941100Z"
    }
   },
   "outputs": [],
   "source": [
    "def get_labels(data_type: str) -> np.ndarray:\n",
    "    \"\"\"\n",
    "    Get ground truth labels from .csv file.\n",
    "    :param data_type: Type of data: Training or Testing.\n",
    "    \"\"\"\n",
    "    df = pd.read_csv(f\"./Wound/{data_type}/myData.csv\", delimiter=\";\")\n",
    "    return df.to_numpy()"
   ]
  },
  {
   "cell_type": "code",
   "execution_count": 3,
   "id": "99767258-8821-4f14-a360-374145f8054a",
   "metadata": {
    "ExecuteTime": {
     "end_time": "2024-11-28T13:02:11.664136400Z",
     "start_time": "2024-11-28T13:02:11.648561700Z"
    }
   },
   "outputs": [],
   "source": [
    "def get_images(data_type: str,\n",
    "               image_names: np.ndarray,\n",
    "               augmentation: Union[Callable[[np.ndarray, Any], np.ndarray], None] = None,\n",
    "               flatten=True,\n",
    "               **kwargs) -> np.ndarray:\n",
    "    \"\"\"\n",
    "    Get the images from directory.\n",
    "    :param data_type: Type of data: Training or Testing.\n",
    "    :param image_names: Names of images from ground truth.\n",
    "    :param augmentation: Augmentation function.\n",
    "    :param flatten: Whether to flatten the images.\n",
    "    :param kwargs: Other arguments to pass to augmentation function.\n",
    "    \"\"\"\n",
    "    images = []\n",
    "    for i_name in image_names:\n",
    "        img = Image.open(os.path.join(f\"./Wound/{data_type}/\", i_name))\n",
    "        img = img.resize((32, 32), Image.BICUBIC)\n",
    "        img = np.array(img)\n",
    "        if augmentation:\n",
    "            img = augmentation(img, **kwargs)\n",
    "        images.append(img.flatten() if flatten else img)\n",
    "\n",
    "    images = np.array(images)\n",
    "\n",
    "    return images"
   ]
  },
  {
   "cell_type": "markdown",
   "id": "c1555dbd-0a94-4241-b8a1-5d7cd6ed7b40",
   "metadata": {},
   "source": [
    "### Image Augmentation"
   ]
  },
  {
   "cell_type": "code",
   "execution_count": 4,
   "id": "ca6df871-2dbf-4ed5-a0f8-3497139ea41c",
   "metadata": {
    "ExecuteTime": {
     "end_time": "2024-11-28T13:02:13.530000200Z",
     "start_time": "2024-11-28T13:02:13.526061Z"
    }
   },
   "outputs": [],
   "source": [
    "def add_black_edge(img: np.array, w: int = 4) -> np.array:\n",
    "    \"\"\"\n",
    "    Image augmentation. Add an inner black edge to an image.\n",
    "    :param img: Image to be processed.\n",
    "    :param w: Width of the edge.\n",
    "    \"\"\"\n",
    "    if w > min(img.shape[0:2]) // 2:\n",
    "        raise ValueError(\"Width of the edge must be smaller than half of the shorter side of an image.\")\n",
    "\n",
    "    new_img = np.zeros_like(img)\n",
    "    new_img[w:-w, w:-w, :] = img[w:-w, w:-w, :]\n",
    "    return new_img"
   ]
  },
  {
   "cell_type": "code",
   "execution_count": 5,
   "id": "47a5cd39-cf7d-4c56-9458-302b556bea16",
   "metadata": {
    "ExecuteTime": {
     "end_time": "2024-11-28T13:02:14.363737800Z",
     "start_time": "2024-11-28T13:02:14.350173700Z"
    }
   },
   "outputs": [],
   "source": [
    "def stretch(img: np.ndarray, f: List[float]) -> np.ndarray:\n",
    "    \"\"\"\n",
    "    Image augmentation. Stretch an image on the width and height side.\n",
    "    :param img: Image to be augmented.\n",
    "    :param f: Factor tuple. Width and Height.\n",
    "    \"\"\"\n",
    "    fw, fh = f\n",
    "    if fw < 1 or fh < 1:\n",
    "        raise ValueError(\"Width and height factors should be greater than or equal to 1.\")\n",
    "\n",
    "    # New widths\n",
    "    new_width = int(img.shape[1] * fw)\n",
    "    new_height = int(img.shape[0] * fh)\n",
    "\n",
    "    # Adjust image\n",
    "    img_pil = Image.fromarray(img)\n",
    "    img_resized = img_pil.resize((new_width, new_height), Image.BICUBIC)\n",
    "\n",
    "    # Crop regions\n",
    "    # Keep 32x32 size\n",
    "    left = (new_width - 32) // 2\n",
    "    top = (new_height - 32) // 2\n",
    "    right = left + 32\n",
    "    bottom = top + 32\n",
    "\n",
    "    # Crop image\n",
    "    img_cropped = img_resized.crop((left, top, right, bottom))\n",
    "\n",
    "    # Convert to numpy array\n",
    "    img_stretched = np.array(img_cropped)\n",
    "\n",
    "    return img_stretched"
   ]
  },
  {
   "cell_type": "markdown",
   "id": "da796a8d-40a3-4bac-8f4c-594e17920710",
   "metadata": {},
   "source": [
    "### Train Model\n",
    "One trainig of model would result in the following structure:\n",
    "```python\n",
    "{\n",
    "    \"x\": {\n",
    "        \"Best MSE\": smallest_mse,\n",
    "        \"Best Fold\": best_fold_idx,\n",
    "        \"Avg MSE\": avg_mse,\n",
    "        \"model\": ModelInstance,\n",
    "    },\n",
    "    \"y\": {\n",
    "        \"Best MSE\": smallest_mse,\n",
    "        \"Best Fold\": best_fold_idx,\n",
    "        \"Avg MSE\": avg_mse,\n",
    "        \"model\": ModelInstance,\n",
    "    },\n",
    "    \"w\": {\n",
    "        \"Best MSE\": smallest_mse,\n",
    "        \"Best Fold\": best_fold_idx,\n",
    "        \"Avg MSE\": avg_mse,\n",
    "        \"model\": ModelInstance,\n",
    "    },\n",
    "    \"h\": {\n",
    "        \"Best MSE\": smallest_mse,\n",
    "        \"Best Fold\": best_fold_idx,\n",
    "        \"Avg MSE\": avg_mse,\n",
    "        \"model\": ModelInstance,\n",
    "    },\n",
    "}\n",
    "```\n",
    "This is named as an \"experiment object\"."
   ]
  },
  {
   "cell_type": "code",
   "execution_count": 43,
   "id": "f8565738-5e76-4133-a1fe-1bc8110f836d",
   "metadata": {
    "ExecuteTime": {
     "end_time": "2024-11-28T18:25:11.890154600Z",
     "start_time": "2024-11-28T18:25:11.883768900Z"
    }
   },
   "outputs": [],
   "source": [
    "def train(ModelInstance, X, Y, desc: str = \"DESC\", n_fold: int = 3, save: bool = False):\n",
    "    \"\"\"\n",
    "    Train the model. Output would be of shape:\n",
    "    :param ModelInstance: Instance of a model class.\n",
    "    :param desc: Description of the saved file.\n",
    "    :param n_fold: Number of folds.\n",
    "    :param save: Whether to save the experiment object.\n",
    "    \"\"\"\n",
    "    model_name = ModelInstance.__class__.__name__\n",
    "    semantic_y = [\"File Name\", \"x\", \"y\", \"w\", \"h\"]\n",
    "\n",
    "    # Print Model configurations\n",
    "    print(f\"Training model {model_name}. Description: {desc}\\nStarted at: {time.time()}\")\n",
    "    # Predict all for x, y, w, h\n",
    "    exp = {}\n",
    "    for i in range(1, Y.shape[1]):\n",
    "        # Totally 4 labels to predict.\n",
    "        # Select one of them.\n",
    "        y = Y[:, i]\n",
    "\n",
    "        # Split original data into 3 parts\n",
    "        # to perform cross-validation\n",
    "        kf = KFold(n_splits=n_fold, shuffle=True, random_state=1919810)\n",
    "        splits = kf.split(X)\n",
    "\n",
    "        # Record MSE of each fold.\n",
    "        # Keep the model with the smallest MSE\n",
    "        mse_scores = []\n",
    "        cur_best_model = None\n",
    "        cur_smallest_MSE = np.inf\n",
    "        for train_index, val_index in splits:\n",
    "            X_train, X_val = X[train_index], X[val_index]\n",
    "            y_train, y_val = y[train_index], y[val_index]\n",
    "\n",
    "            model = copy.deepcopy(ModelInstance)\n",
    "            model.fit(X_train, y_train)\n",
    "\n",
    "            y_pred = model.predict(X_val)\n",
    "            mse = mean_squared_error(y_val, y_pred)\n",
    "            mse_scores.append(mse)\n",
    "\n",
    "            if cur_smallest_MSE > mse_scores[-1]:\n",
    "                cur_best_model = copy.deepcopy(model)\n",
    "\n",
    "        exp[semantic_y[i]] = {\n",
    "            \"Best MSE\": cur_smallest_MSE,\n",
    "            \"Best Fold\": np.argmin(mse_scores),\n",
    "            \"Avg MSE\": np.mean(mse_scores),\n",
    "            \"model\": copy.deepcopy(cur_best_model)\n",
    "        }\n",
    "        del cur_best_model\n",
    "\n",
    "        print(f\"{semantic_y[i]} - Avg MSE={np.mean(mse_scores):.4f}, \"\n",
    "              f\"Best MSE={np.min(mse_scores):.4f} at index {np.argmin(mse_scores)}\")\n",
    "\n",
    "    # Save models\n",
    "    print(f\"Ended at {time.time()}\\n\\n\")\n",
    "    if save:\n",
    "        time_str = str(time.time()).replace(\".\", \"\")\n",
    "        pickle.dump(exp, open(f\"./save_models/{model_name}_{desc}_{time_str}.sav\", \"wb\"))\n",
    "    return exp"
   ]
  },
  {
   "cell_type": "code",
   "execution_count": 44,
   "id": "15e49bfa-8375-435d-99f6-3c7a2e3c42cc",
   "metadata": {
    "ExecuteTime": {
     "end_time": "2024-11-28T18:25:12.608381300Z",
     "start_time": "2024-11-28T18:25:12.592112300Z"
    }
   },
   "outputs": [],
   "source": [
    "def grid_search(ModelClass, hyper_params, hyper_param_names, kwarg_names, **kwargs):\n",
    "    \"\"\"\n",
    "    Perform grid search for the given model class and hyperparameters.\n",
    "    :param ModelClass: The class to instantiate the model.\n",
    "    :param hyper_params: The product of two lists of candidate hyperparameters.\n",
    "    :hyper_param_names: The display name of two hyperparameters.\n",
    "    :kwarg_names: Names of keyword arguments to be passed into the model.\n",
    "    :returns: A list of dictionaries containing hyperparameters and experiment objects.\n",
    "    \"\"\"\n",
    "    param_exps = []\n",
    "    \n",
    "    n1, n2 = hyper_param_names\n",
    "    kw1, kw2 = kwarg_names\n",
    "    \n",
    "    model_name = ModelClass.__name__\n",
    "    \n",
    "    # Data Augmentation\n",
    "    # Change some useless information\n",
    "    Y_ori = get_labels(data_type=\"Training\")\n",
    "    X_ori = get_images(data_type=\"Training\", image_names=Y_ori[:, 0])\n",
    "\n",
    "    # Add black edge\n",
    "    Y_be = get_labels(data_type=\"Training\")\n",
    "    X_be = get_images(data_type=\"Training\", image_names=Y_be[:, 0], augmentation=add_black_edge, w=4)\n",
    "\n",
    "    # Stretch height\n",
    "    Y_sh = get_labels(data_type=\"Training\")\n",
    "    X_sh = get_images(data_type=\"Training\", image_names=Y_sh[:, 0], augmentation=stretch, f=[1.0, 1.05])\n",
    "    Y_sh[:, 4] *= 1.05\n",
    "\n",
    "    # Stretch Width\n",
    "    Y_sw = get_labels(data_type=\"Training\")\n",
    "    X_sw = get_images(data_type=\"Training\", image_names=Y_sw[:, 0], augmentation=stretch, f=[1.05, 1.0])\n",
    "    Y_sw[:, 3] *= 1.05\n",
    "    \n",
    "    X = np.concatenate((X_ori, X_be, X_sh, X_sw))\n",
    "    Y = np.concatenate((Y_ori, Y_be, Y_sh, Y_sw))\n",
    "    \n",
    "    for param1, param2 in hyper_params:\n",
    "        # Dynamically add the hyperparameters to kwargs\n",
    "        model_kwargs = {\n",
    "            kw1: param1,\n",
    "            kw2: param2\n",
    "        }\n",
    "        \n",
    "        model_kwargs.update(kwargs)\n",
    "        \n",
    "        model_instance = ModelClass(**model_kwargs)\n",
    "        exp = train(model_instance, X, Y, desc=f\"{n1}-{param1}--{n2}-{param2}\", n_fold=3, save=False)\n",
    "        param_exps.append({\n",
    "            n1: param1,\n",
    "            n2: param2,\n",
    "            \"exp\": exp\n",
    "        })\n",
    "\n",
    "    time_str = str(time.time()).replace(\".\", \"\")\n",
    "    pickle.dump(param_exps, open(f\"./save_models/{model_name}_{n1}-{n2}_{time_str}.sav\", \"wb\"))\n",
    "    return param_exps"
   ]
  },
  {
   "cell_type": "code",
   "outputs": [],
   "source": [
    "def test(exp_list, Y_test, X_test):\n",
    "    # Y_test = get_labels(data_type=\"Test\")\n",
    "    # X_test = get_images(data_type=\"Test\", image_names=Y_test[:,0])\n",
    "    results = []\n",
    "    for i, exp in enumerate(exp_list):\n",
    "        param_name1, param_name2, _ = exp.keys()\n",
    "        param1, param2, models = list(exp.values())\n",
    "        \n",
    "        model_x, model_y, model_w, model_h = (models[\"x\"][\"model\"], \n",
    "                                              models[\"y\"][\"model\"], \n",
    "                                              models[\"w\"][\"model\"],\n",
    "                                              models[\"h\"][\"model\"])\n",
    "        \n",
    "        y_x, y_y, y_w, y_h = Y_test[:, 1], Y_test[:, 2], Y_test[:, 3], Y_test[:, 4]\n",
    "        \n",
    "        y_pred_x, y_pred_y, y_pred_w, y_pred_h = (model_x.predict(X_test), \n",
    "                                                  model_y.predict(X_test), \n",
    "                                                  model_w.predict(X_test), \n",
    "                                                  model_h.predict(X_test))\n",
    "        \n",
    "        mse_x, mse_y, mse_w, mse_h = (mean_squared_error(y_x, y_pred_x), \n",
    "                                      mean_squared_error(y_y, y_pred_y), \n",
    "                                      mean_squared_error(y_w, y_pred_w), \n",
    "                                      mean_squared_error(y_h, y_pred_h))\n",
    "        \n",
    "        avg_mse = np.mean([mse_x, mse_y, mse_w, mse_h])\n",
    "        \n",
    "        results.append({\n",
    "            param_name1: param1,\n",
    "            param_name2: param2,\n",
    "            \"avg_mse\": avg_mse\n",
    "        })\n",
    "    return results"
   ],
   "metadata": {
    "collapsed": false,
    "ExecuteTime": {
     "end_time": "2024-11-28T18:25:16.897470300Z",
     "start_time": "2024-11-28T18:25:16.878794Z"
    }
   },
   "id": "1d9d3c6edbf292cf",
   "execution_count": 45
  },
  {
   "cell_type": "markdown",
   "id": "91ab7843-2d8c-42f9-b1ff-4d9f8fe2d5a4",
   "metadata": {},
   "source": [
    "### Grid Search: RandomForestRegressor\n",
    "Hyper parameters for Random Forest Regressor:\n",
    "- n_estimators: Number of estimators.\n",
    "- bootstrap: Bootstrap or not.\n",
    "- max_depth: Maximum Depth of the tree.\n",
    "- min_samples_split: Minimum sample number that allows a leaf to be split again.\n",
    "- min_samples_leaf: Minimum sample number a leaf requires."
   ]
  },
  {
   "cell_type": "code",
   "execution_count": 8,
   "id": "ea8a4204-6394-4091-a1e8-bd7ef9362324",
   "metadata": {
    "ExecuteTime": {
     "end_time": "2024-11-28T13:03:49.442961300Z",
     "start_time": "2024-11-28T13:03:49.427939Z"
    }
   },
   "outputs": [],
   "source": [
    "rfr_nest = [10, 20, 30, 40, 50]\n",
    "rfr_maxd = [11, 13, 15, 17, 19]\n",
    "rfr_mins = [2, 4, 6, 8, 10]\n",
    "rfr_minl = [6, 8, 10, 12, 14]\n",
    "rfr_grid0 = product(rfr_nest, rfr_maxd)\n",
    "rfr_grid1 = product(rfr_mins, rfr_minl)"
   ]
  },
  {
   "cell_type": "markdown",
   "source": [
    "### Grid Search 0: Num Estimators + Max Deapth"
   ],
   "metadata": {
    "collapsed": false
   },
   "id": "6be2a87d1c69baec"
  },
  {
   "cell_type": "code",
   "execution_count": 9,
   "id": "374ed92a-57f1-4dd6-afcc-1dbb8722c6c7",
   "metadata": {
    "scrolled": true,
    "ExecuteTime": {
     "end_time": "2024-11-28T14:17:44.092036200Z",
     "start_time": "2024-11-28T13:06:57.198737Z"
    }
   },
   "outputs": [
    {
     "name": "stdout",
     "output_type": "stream",
     "text": [
      "Training model RandomForestRegressor. Description: nest-10--maxd-11\n",
      "Started at: 1732799242.455379\n",
      "x - Avg MSE=265.0281, Best MSE=226.6704 at index 1\n",
      "y - Avg MSE=319.6748, Best MSE=206.1377 at index 1\n",
      "w - Avg MSE=981.5292, Best MSE=914.7635 at index 0\n",
      "h - Avg MSE=1024.7640, Best MSE=774.9044 at index 0\n",
      "Ended at 1732799277.573622\n",
      "\n",
      "Training model RandomForestRegressor. Description: nest-10--maxd-13\n",
      "Started at: 1732799303.3531008\n",
      "x - Avg MSE=303.6308, Best MSE=264.3288 at index 2\n",
      "y - Avg MSE=330.7782, Best MSE=254.7151 at index 1\n",
      "w - Avg MSE=1046.2773, Best MSE=935.1649 at index 0\n",
      "h - Avg MSE=1015.2763, Best MSE=801.2331 at index 1\n",
      "Ended at 1732799339.3567605\n",
      "\n",
      "Training model RandomForestRegressor. Description: nest-10--maxd-15\n",
      "Started at: 1732799364.6094503\n",
      "x - Avg MSE=300.3605, Best MSE=246.8027 at index 2\n",
      "y - Avg MSE=316.6453, Best MSE=246.9491 at index 1\n",
      "w - Avg MSE=1039.2064, Best MSE=971.3801 at index 0\n",
      "h - Avg MSE=1130.1478, Best MSE=980.0463 at index 1\n",
      "Ended at 1732799401.170166\n",
      "\n",
      "Training model RandomForestRegressor. Description: nest-10--maxd-17\n",
      "Started at: 1732799426.1358972\n",
      "x - Avg MSE=300.4805, Best MSE=221.9252 at index 2\n",
      "y - Avg MSE=338.9396, Best MSE=276.1063 at index 1\n",
      "w - Avg MSE=1021.4995, Best MSE=950.0199 at index 0\n",
      "h - Avg MSE=1006.8791, Best MSE=919.2143 at index 2\n",
      "Ended at 1732799462.3547573\n",
      "\n",
      "Training model RandomForestRegressor. Description: nest-10--maxd-19\n",
      "Started at: 1732799486.7901278\n",
      "x - Avg MSE=302.8487, Best MSE=288.1919 at index 1\n",
      "y - Avg MSE=328.5022, Best MSE=271.5901 at index 1\n",
      "w - Avg MSE=1002.2346, Best MSE=857.0157 at index 0\n",
      "h - Avg MSE=958.0220, Best MSE=848.5257 at index 1\n",
      "Ended at 1732799523.2739859\n",
      "\n",
      "Training model RandomForestRegressor. Description: nest-20--maxd-11\n",
      "Started at: 1732799548.2014005\n",
      "x - Avg MSE=285.0670, Best MSE=266.7257 at index 1\n",
      "y - Avg MSE=309.2617, Best MSE=230.4450 at index 1\n",
      "w - Avg MSE=812.8412, Best MSE=782.5403 at index 0\n",
      "h - Avg MSE=876.8053, Best MSE=744.5018 at index 0\n",
      "Ended at 1732799618.3518734\n",
      "\n",
      "Training model RandomForestRegressor. Description: nest-20--maxd-13\n",
      "Started at: 1732799642.5200229\n",
      "x - Avg MSE=252.7599, Best MSE=221.1697 at index 2\n",
      "y - Avg MSE=298.5948, Best MSE=219.2555 at index 1\n",
      "w - Avg MSE=881.0838, Best MSE=758.1520 at index 2\n",
      "h - Avg MSE=787.2464, Best MSE=742.0857 at index 0\n",
      "Ended at 1732799715.4098089\n",
      "\n",
      "Training model RandomForestRegressor. Description: nest-20--maxd-15\n",
      "Started at: 1732799739.9309459\n",
      "x - Avg MSE=253.8009, Best MSE=203.6632 at index 2\n",
      "y - Avg MSE=289.7559, Best MSE=216.9240 at index 1\n",
      "w - Avg MSE=936.1498, Best MSE=894.1271 at index 0\n",
      "h - Avg MSE=913.3963, Best MSE=819.3239 at index 1\n",
      "Ended at 1732799813.0232718\n",
      "\n",
      "Training model RandomForestRegressor. Description: nest-20--maxd-17\n",
      "Started at: 1732799838.0781047\n",
      "x - Avg MSE=253.8418, Best MSE=222.3508 at index 2\n",
      "y - Avg MSE=329.0912, Best MSE=246.1059 at index 1\n",
      "w - Avg MSE=884.3192, Best MSE=718.6947 at index 0\n",
      "h - Avg MSE=902.8129, Best MSE=831.9966 at index 2\n",
      "Ended at 1732799910.988647\n",
      "\n",
      "Training model RandomForestRegressor. Description: nest-20--maxd-19\n",
      "Started at: 1732799935.958038\n",
      "x - Avg MSE=268.1530, Best MSE=228.2566 at index 2\n",
      "y - Avg MSE=329.3778, Best MSE=236.9652 at index 1\n",
      "w - Avg MSE=849.3705, Best MSE=713.9744 at index 0\n",
      "h - Avg MSE=901.6856, Best MSE=797.9166 at index 0\n",
      "Ended at 1732800008.8168418\n",
      "\n",
      "Training model RandomForestRegressor. Description: nest-30--maxd-11\n",
      "Started at: 1732800033.754099\n",
      "x - Avg MSE=272.9434, Best MSE=214.3267 at index 2\n",
      "y - Avg MSE=309.8040, Best MSE=244.9138 at index 1\n",
      "w - Avg MSE=874.0065, Best MSE=786.2825 at index 0\n",
      "h - Avg MSE=892.1854, Best MSE=776.4926 at index 0\n",
      "Ended at 1732800138.805168\n",
      "\n",
      "Training model RandomForestRegressor. Description: nest-30--maxd-13\n",
      "Started at: 1732800162.8637316\n",
      "x - Avg MSE=274.6289, Best MSE=240.6389 at index 2\n",
      "y - Avg MSE=293.3156, Best MSE=201.7539 at index 1\n",
      "w - Avg MSE=831.7885, Best MSE=747.1287 at index 0\n",
      "h - Avg MSE=793.4268, Best MSE=752.4546 at index 0\n",
      "Ended at 1732800271.1492708\n",
      "\n",
      "Training model RandomForestRegressor. Description: nest-30--maxd-15\n",
      "Started at: 1732800295.3863888\n",
      "x - Avg MSE=253.0778, Best MSE=208.0780 at index 1\n",
      "y - Avg MSE=301.5480, Best MSE=218.6238 at index 1\n",
      "w - Avg MSE=940.0108, Best MSE=835.9889 at index 0\n",
      "h - Avg MSE=874.5578, Best MSE=814.1522 at index 1\n",
      "Ended at 1732800404.3143518\n",
      "\n",
      "Training model RandomForestRegressor. Description: nest-30--maxd-17\n",
      "Started at: 1732800428.4378633\n",
      "x - Avg MSE=278.1840, Best MSE=251.4836 at index 2\n",
      "y - Avg MSE=300.7216, Best MSE=214.8380 at index 1\n",
      "w - Avg MSE=855.0443, Best MSE=826.7070 at index 0\n",
      "h - Avg MSE=792.9134, Best MSE=750.9542 at index 0\n",
      "Ended at 1732800538.099123\n",
      "\n",
      "Training model RandomForestRegressor. Description: nest-30--maxd-19\n",
      "Started at: 1732800562.0520394\n",
      "x - Avg MSE=220.2197, Best MSE=207.4006 at index 2\n",
      "y - Avg MSE=284.1861, Best MSE=210.9069 at index 1\n",
      "w - Avg MSE=854.7060, Best MSE=785.5057 at index 0\n",
      "h - Avg MSE=814.5918, Best MSE=776.2419 at index 2\n",
      "Ended at 1732800671.8010006\n",
      "\n",
      "Training model RandomForestRegressor. Description: nest-40--maxd-11\n",
      "Started at: 1732800695.766269\n",
      "x - Avg MSE=251.8448, Best MSE=215.4979 at index 1\n",
      "y - Avg MSE=289.9733, Best MSE=226.2858 at index 1\n",
      "w - Avg MSE=896.8800, Best MSE=767.0302 at index 0\n",
      "h - Avg MSE=869.4700, Best MSE=844.8714 at index 0\n",
      "Ended at 1732800835.5782795\n",
      "\n",
      "Training model RandomForestRegressor. Description: nest-40--maxd-13\n",
      "Started at: 1732800860.1936045\n",
      "x - Avg MSE=259.2456, Best MSE=233.5999 at index 2\n",
      "y - Avg MSE=292.2659, Best MSE=208.6475 at index 1\n",
      "w - Avg MSE=824.1160, Best MSE=760.9130 at index 0\n",
      "h - Avg MSE=806.5849, Best MSE=778.1615 at index 0\n",
      "Ended at 1732801004.565523\n",
      "\n",
      "Training model RandomForestRegressor. Description: nest-40--maxd-15\n",
      "Started at: 1732801029.0618072\n",
      "x - Avg MSE=244.2120, Best MSE=226.4907 at index 1\n",
      "y - Avg MSE=291.8532, Best MSE=225.0804 at index 1\n",
      "w - Avg MSE=868.4658, Best MSE=724.4030 at index 0\n",
      "h - Avg MSE=781.5694, Best MSE=727.7959 at index 1\n",
      "Ended at 1732801210.976922\n",
      "\n",
      "Training model RandomForestRegressor. Description: nest-40--maxd-17\n",
      "Started at: 1732801254.3320477\n",
      "x - Avg MSE=234.3425, Best MSE=200.5500 at index 2\n",
      "y - Avg MSE=286.3102, Best MSE=221.9404 at index 1\n",
      "w - Avg MSE=862.7032, Best MSE=726.3788 at index 0\n",
      "h - Avg MSE=865.5574, Best MSE=813.9664 at index 0\n",
      "Ended at 1732801497.655775\n",
      "\n",
      "Training model RandomForestRegressor. Description: nest-40--maxd-19\n",
      "Started at: 1732801539.3561637\n",
      "x - Avg MSE=242.0519, Best MSE=206.8850 at index 2\n",
      "y - Avg MSE=293.3265, Best MSE=227.6444 at index 1\n",
      "w - Avg MSE=868.8398, Best MSE=772.2479 at index 0\n",
      "h - Avg MSE=881.9131, Best MSE=807.3104 at index 0\n",
      "Ended at 1732801778.9195538\n",
      "\n",
      "Training model RandomForestRegressor. Description: nest-50--maxd-11\n",
      "Started at: 1732801819.7143903\n",
      "x - Avg MSE=270.1062, Best MSE=244.6453 at index 1\n",
      "y - Avg MSE=284.4660, Best MSE=222.7727 at index 1\n",
      "w - Avg MSE=889.8490, Best MSE=768.3454 at index 0\n",
      "h - Avg MSE=836.6008, Best MSE=804.7312 at index 0\n",
      "Ended at 1732802107.0316658\n",
      "\n",
      "Training model RandomForestRegressor. Description: nest-50--maxd-13\n",
      "Started at: 1732802147.970842\n",
      "x - Avg MSE=241.5700, Best MSE=213.1301 at index 2\n",
      "y - Avg MSE=270.0202, Best MSE=190.1522 at index 1\n",
      "w - Avg MSE=847.1258, Best MSE=703.7665 at index 0\n",
      "h - Avg MSE=842.7185, Best MSE=816.7929 at index 0\n",
      "Ended at 1732802444.4113607\n",
      "\n",
      "Training model RandomForestRegressor. Description: nest-50--maxd-15\n",
      "Started at: 1732802485.3644946\n",
      "x - Avg MSE=253.3668, Best MSE=212.1847 at index 2\n",
      "y - Avg MSE=285.6002, Best MSE=196.1240 at index 1\n",
      "w - Avg MSE=826.6384, Best MSE=753.8100 at index 2\n",
      "h - Avg MSE=823.7715, Best MSE=784.7041 at index 1\n",
      "Ended at 1732802781.4783213\n",
      "\n",
      "Training model RandomForestRegressor. Description: nest-50--maxd-17\n",
      "Started at: 1732802823.8504105\n",
      "x - Avg MSE=255.9907, Best MSE=225.8875 at index 2\n",
      "y - Avg MSE=285.5330, Best MSE=213.0238 at index 1\n",
      "w - Avg MSE=865.0635, Best MSE=841.2231 at index 0\n",
      "h - Avg MSE=821.2326, Best MSE=761.4187 at index 2\n",
      "Ended at 1732803122.3551664\n",
      "\n",
      "Training model RandomForestRegressor. Description: nest-50--maxd-19\n",
      "Started at: 1732803163.495206\n",
      "x - Avg MSE=253.7331, Best MSE=223.8237 at index 1\n",
      "y - Avg MSE=275.0223, Best MSE=196.7816 at index 1\n",
      "w - Avg MSE=862.6752, Best MSE=767.1612 at index 0\n",
      "h - Avg MSE=864.4260, Best MSE=791.0012 at index 0\n",
      "Ended at 1732803463.0916922\n"
     ]
    }
   ],
   "source": [
    "rfr_grid0_exp = grid_search(ModelClass=RandomForestRegressor, \n",
    "                            hyper_params=rfr_grid0, \n",
    "                            hyper_param_names=[\"nest\", \"maxd\"], \n",
    "                            kwarg_names=[\"n_estimators\", \"max_depth\"])"
   ]
  },
  {
   "cell_type": "code",
   "outputs": [],
   "source": [
    "with open(\"./save_models/RandomForestRegressor_nest-maxd_17328034630916922.sav\", \"rb\") as rfr_grid0_exp_f:\n",
    "    rfr_grid0_exp_loaded = pickle.load(rfr_grid0_exp_f)"
   ],
   "metadata": {
    "collapsed": false,
    "ExecuteTime": {
     "end_time": "2024-11-28T18:04:50.427513700Z",
     "start_time": "2024-11-28T18:04:50.131516300Z"
    }
   },
   "id": "6414aafc836b6fec",
   "execution_count": 26
  },
  {
   "cell_type": "code",
   "outputs": [],
   "source": [
    "Y_test = get_labels(data_type=\"Test\")\n",
    "X_test = get_images(data_type=\"Test\", image_names=Y_test[:,0])\n",
    "rfr_grid0_results = test(exp_list=rfr_grid0_exp_loaded, Y_test=Y_test, X_test=X_test)"
   ],
   "metadata": {
    "collapsed": false,
    "ExecuteTime": {
     "end_time": "2024-11-28T18:12:32.802610800Z",
     "start_time": "2024-11-28T18:12:30.921666200Z"
    }
   },
   "id": "3c4c633ae24b6dd2",
   "execution_count": 38
  },
  {
   "cell_type": "code",
   "outputs": [
    {
     "data": {
      "text/plain": "[{'nest': 10, 'maxd': 11, 'avg_mse': np.float64(1121.6735900260442)},\n {'nest': 10, 'maxd': 13, 'avg_mse': np.float64(1207.1127779833778)},\n {'nest': 10, 'maxd': 15, 'avg_mse': np.float64(1397.0920984884651)},\n {'nest': 10, 'maxd': 17, 'avg_mse': np.float64(1207.84312921875)},\n {'nest': 10, 'maxd': 19, 'avg_mse': np.float64(1337.546615156251)},\n {'nest': 20, 'maxd': 11, 'avg_mse': np.float64(1120.27080063905)},\n {'nest': 20, 'maxd': 13, 'avg_mse': np.float64(1222.522943146033)},\n {'nest': 20, 'maxd': 15, 'avg_mse': np.float64(1164.6933728044157)},\n {'nest': 20, 'maxd': 17, 'avg_mse': np.float64(1100.4649255305203)},\n {'nest': 20, 'maxd': 19, 'avg_mse': np.float64(1094.5792512109372)},\n {'nest': 30, 'maxd': 11, 'avg_mse': np.float64(1061.189627912441)},\n {'nest': 30, 'maxd': 13, 'avg_mse': np.float64(1042.1595238991367)},\n {'nest': 30, 'maxd': 15, 'avg_mse': np.float64(1115.1385660510634)},\n {'nest': 30, 'maxd': 17, 'avg_mse': np.float64(1055.0009023263888)},\n {'nest': 30, 'maxd': 19, 'avg_mse': np.float64(1056.629312621528)},\n {'nest': 40, 'maxd': 11, 'avg_mse': np.float64(1058.78117455536)},\n {'nest': 40, 'maxd': 13, 'avg_mse': np.float64(1080.9194984220592)},\n {'nest': 40, 'maxd': 15, 'avg_mse': np.float64(1058.366579930252)},\n {'nest': 40, 'maxd': 17, 'avg_mse': np.float64(1080.521449596532)},\n {'nest': 40, 'maxd': 19, 'avg_mse': np.float64(1088.4340917578124)},\n {'nest': 50, 'maxd': 11, 'avg_mse': np.float64(1074.423729699913)},\n {'nest': 50, 'maxd': 13, 'avg_mse': np.float64(1104.6889940494148)},\n {'nest': 50, 'maxd': 15, 'avg_mse': np.float64(1060.063316553923)},\n {'nest': 50, 'maxd': 17, 'avg_mse': np.float64(1036.6432180931386)},\n {'nest': 50, 'maxd': 19, 'avg_mse': np.float64(1158.1428809312513)}]"
     },
     "execution_count": 39,
     "metadata": {},
     "output_type": "execute_result"
    }
   ],
   "source": [
    "rfr_grid0_results"
   ],
   "metadata": {
    "collapsed": false,
    "ExecuteTime": {
     "end_time": "2024-11-28T18:12:35.541767900Z",
     "start_time": "2024-11-28T18:12:35.531844700Z"
    }
   },
   "id": "b129a3347f208314",
   "execution_count": 39
  },
  {
   "cell_type": "code",
   "outputs": [
    {
     "data": {
      "text/plain": "{'nest': 50, 'maxd': 17, 'avg_mse': np.float64(1036.6432180931386)}"
     },
     "execution_count": 40,
     "metadata": {},
     "output_type": "execute_result"
    }
   ],
   "source": [
    "rfr_grid0_best = min(rfr_grid0_results, key=lambda x: x[\"avg_mse\"])\n",
    "rfr_grid0_best"
   ],
   "metadata": {
    "collapsed": false,
    "ExecuteTime": {
     "end_time": "2024-11-28T18:12:45.033629500Z",
     "start_time": "2024-11-28T18:12:45.026329200Z"
    }
   },
   "id": "1c61b49714d1f10c",
   "execution_count": 40
  },
  {
   "cell_type": "markdown",
   "source": [
    "#### Grid Search 1: Min Samples Split, Min Samples Leaf"
   ],
   "metadata": {
    "collapsed": false
   },
   "id": "6a67021bfb95618c"
  },
  {
   "cell_type": "code",
   "execution_count": 46,
   "id": "04a13310-2564-4c82-b78b-5159f425191d",
   "metadata": {
    "scrolled": true,
    "ExecuteTime": {
     "end_time": "2024-11-28T18:59:59.484949600Z",
     "start_time": "2024-11-28T18:25:22.992733Z"
    }
   },
   "outputs": [
    {
     "name": "stdout",
     "output_type": "stream",
     "text": [
      "Training model RandomForestRegressor. Description: mins-2--minl-14\n",
      "Started at: 1732818348.657749\n",
      "x - Avg MSE=402.2252, Best MSE=363.8324 at index 1\n",
      "y - Avg MSE=438.6546, Best MSE=365.7809 at index 1\n",
      "w - Avg MSE=1442.0456, Best MSE=1202.3531 at index 0\n",
      "h - Avg MSE=1340.2832, Best MSE=1192.4955 at index 0\n",
      "Ended at 1732818430.85319\n",
      "\n",
      "\n",
      "Training model RandomForestRegressor. Description: mins-4--minl-6\n",
      "Started at: 1732818430.85319\n",
      "x - Avg MSE=317.2188, Best MSE=296.8959 at index 1\n",
      "y - Avg MSE=329.0119, Best MSE=247.3725 at index 1\n",
      "w - Avg MSE=1046.5065, Best MSE=946.3808 at index 0\n",
      "h - Avg MSE=1028.4777, Best MSE=894.0832 at index 0\n",
      "Ended at 1732818549.377478\n",
      "\n",
      "\n",
      "Training model RandomForestRegressor. Description: mins-4--minl-8\n",
      "Started at: 1732818549.377478\n",
      "x - Avg MSE=343.9908, Best MSE=303.2356 at index 1\n",
      "y - Avg MSE=363.2314, Best MSE=287.7339 at index 1\n",
      "w - Avg MSE=1132.5766, Best MSE=1006.1077 at index 0\n",
      "h - Avg MSE=1018.8811, Best MSE=931.3654 at index 0\n",
      "Ended at 1732818654.8067505\n",
      "\n",
      "\n",
      "Training model RandomForestRegressor. Description: mins-4--minl-10\n",
      "Started at: 1732818654.8067505\n",
      "x - Avg MSE=358.4263, Best MSE=311.8097 at index 1\n",
      "y - Avg MSE=392.5956, Best MSE=299.0912 at index 1\n",
      "w - Avg MSE=1240.2104, Best MSE=1098.4727 at index 0\n",
      "h - Avg MSE=1174.3176, Best MSE=1057.1687 at index 0\n",
      "Ended at 1732818751.2034676\n",
      "\n",
      "\n",
      "Training model RandomForestRegressor. Description: mins-4--minl-12\n",
      "Started at: 1732818751.2044683\n",
      "x - Avg MSE=387.5699, Best MSE=356.3470 at index 1\n",
      "y - Avg MSE=416.0252, Best MSE=318.7699 at index 1\n",
      "w - Avg MSE=1337.1615, Best MSE=1130.0384 at index 0\n",
      "h - Avg MSE=1255.5735, Best MSE=1125.3918 at index 0\n",
      "Ended at 1732818839.69342\n",
      "\n",
      "\n",
      "Training model RandomForestRegressor. Description: mins-4--minl-14\n",
      "Started at: 1732818839.69342\n",
      "x - Avg MSE=395.4864, Best MSE=342.6887 at index 1\n",
      "y - Avg MSE=439.9501, Best MSE=346.3096 at index 1\n",
      "w - Avg MSE=1435.2888, Best MSE=1177.6439 at index 0\n",
      "h - Avg MSE=1369.6821, Best MSE=1251.1265 at index 0\n",
      "Ended at 1732818922.3858762\n",
      "\n",
      "\n",
      "Training model RandomForestRegressor. Description: mins-6--minl-6\n",
      "Started at: 1732818922.3858762\n",
      "x - Avg MSE=299.6859, Best MSE=280.3374 at index 2\n",
      "y - Avg MSE=324.6332, Best MSE=239.1581 at index 1\n",
      "w - Avg MSE=1027.0948, Best MSE=952.0627 at index 0\n",
      "h - Avg MSE=1008.5805, Best MSE=921.4849 at index 0\n",
      "Ended at 1732819039.9710972\n",
      "\n",
      "\n",
      "Training model RandomForestRegressor. Description: mins-6--minl-8\n",
      "Started at: 1732819039.9710972\n",
      "x - Avg MSE=340.0678, Best MSE=300.7361 at index 1\n",
      "y - Avg MSE=368.0730, Best MSE=272.3577 at index 1\n",
      "w - Avg MSE=1164.4175, Best MSE=993.3966 at index 0\n",
      "h - Avg MSE=1078.3083, Best MSE=1003.5377 at index 0\n",
      "Ended at 1732819145.7036448\n",
      "\n",
      "\n",
      "Training model RandomForestRegressor. Description: mins-6--minl-10\n",
      "Started at: 1732819145.7036448\n",
      "x - Avg MSE=351.4799, Best MSE=318.7112 at index 1\n",
      "y - Avg MSE=375.0509, Best MSE=291.7463 at index 1\n",
      "w - Avg MSE=1150.3414, Best MSE=1037.5164 at index 0\n",
      "h - Avg MSE=1129.5494, Best MSE=1012.8258 at index 0\n",
      "Ended at 1732819242.616728\n",
      "\n",
      "\n",
      "Training model RandomForestRegressor. Description: mins-6--minl-12\n",
      "Started at: 1732819242.616728\n",
      "x - Avg MSE=396.9540, Best MSE=344.9190 at index 1\n",
      "y - Avg MSE=413.6691, Best MSE=325.0908 at index 1\n",
      "w - Avg MSE=1326.9109, Best MSE=1182.4158 at index 0\n",
      "h - Avg MSE=1235.1352, Best MSE=1150.9189 at index 0\n",
      "Ended at 1732819330.9359574\n",
      "\n",
      "\n",
      "Training model RandomForestRegressor. Description: mins-6--minl-14\n",
      "Started at: 1732819330.93696\n",
      "x - Avg MSE=414.9396, Best MSE=385.7341 at index 2\n",
      "y - Avg MSE=443.2186, Best MSE=346.9401 at index 1\n",
      "w - Avg MSE=1448.4944, Best MSE=1249.3066 at index 0\n",
      "h - Avg MSE=1374.2254, Best MSE=1183.8333 at index 0\n",
      "Ended at 1732819412.6458087\n",
      "\n",
      "\n",
      "Training model RandomForestRegressor. Description: mins-8--minl-6\n",
      "Started at: 1732819412.6458087\n",
      "x - Avg MSE=306.3612, Best MSE=264.9436 at index 2\n",
      "y - Avg MSE=332.0751, Best MSE=254.1679 at index 1\n",
      "w - Avg MSE=1064.0627, Best MSE=921.7015 at index 0\n",
      "h - Avg MSE=986.1452, Best MSE=905.5797 at index 0\n",
      "Ended at 1732819531.061846\n",
      "\n",
      "\n",
      "Training model RandomForestRegressor. Description: mins-8--minl-8\n",
      "Started at: 1732819531.061846\n",
      "x - Avg MSE=341.1710, Best MSE=307.2840 at index 1\n",
      "y - Avg MSE=353.3562, Best MSE=276.3957 at index 1\n",
      "w - Avg MSE=1141.7107, Best MSE=1060.8216 at index 0\n",
      "h - Avg MSE=1107.9635, Best MSE=1015.4211 at index 0\n",
      "Ended at 1732819637.4364536\n",
      "\n",
      "\n",
      "Training model RandomForestRegressor. Description: mins-8--minl-10\n",
      "Started at: 1732819637.4364536\n",
      "x - Avg MSE=357.4565, Best MSE=320.8092 at index 1\n",
      "y - Avg MSE=386.5492, Best MSE=292.8224 at index 1\n",
      "w - Avg MSE=1246.9404, Best MSE=1126.4425 at index 0\n",
      "h - Avg MSE=1196.9682, Best MSE=1048.1792 at index 0\n",
      "Ended at 1732819734.1619742\n",
      "\n",
      "\n",
      "Training model RandomForestRegressor. Description: mins-8--minl-12\n",
      "Started at: 1732819734.1619742\n",
      "x - Avg MSE=374.6108, Best MSE=329.4399 at index 1\n",
      "y - Avg MSE=429.6287, Best MSE=328.4150 at index 1\n",
      "w - Avg MSE=1307.2900, Best MSE=1136.6054 at index 0\n",
      "h - Avg MSE=1233.3965, Best MSE=1122.4843 at index 0\n",
      "Ended at 1732819823.073073\n",
      "\n",
      "\n",
      "Training model RandomForestRegressor. Description: mins-8--minl-14\n",
      "Started at: 1732819823.073073\n",
      "x - Avg MSE=427.2986, Best MSE=387.4330 at index 1\n",
      "y - Avg MSE=438.0066, Best MSE=345.5857 at index 1\n",
      "w - Avg MSE=1418.6415, Best MSE=1163.1882 at index 0\n",
      "h - Avg MSE=1351.3913, Best MSE=1212.9613 at index 0\n",
      "Ended at 1732819905.3456457\n",
      "\n",
      "\n",
      "Training model RandomForestRegressor. Description: mins-10--minl-6\n",
      "Started at: 1732819905.3456457\n",
      "x - Avg MSE=304.2403, Best MSE=266.2976 at index 1\n",
      "y - Avg MSE=329.2198, Best MSE=239.6347 at index 1\n",
      "w - Avg MSE=1076.3721, Best MSE=871.2208 at index 0\n",
      "h - Avg MSE=977.0536, Best MSE=892.7054 at index 0\n",
      "Ended at 1732820023.1837668\n",
      "\n",
      "\n",
      "Training model RandomForestRegressor. Description: mins-10--minl-8\n",
      "Started at: 1732820023.1837668\n",
      "x - Avg MSE=322.0472, Best MSE=279.4881 at index 1\n",
      "y - Avg MSE=360.0279, Best MSE=276.2173 at index 1\n",
      "w - Avg MSE=1074.4187, Best MSE=906.7529 at index 0\n",
      "h - Avg MSE=1039.2851, Best MSE=899.1560 at index 0\n",
      "Ended at 1732820131.817652\n",
      "\n",
      "\n",
      "Training model RandomForestRegressor. Description: mins-10--minl-10\n",
      "Started at: 1732820131.817652\n",
      "x - Avg MSE=362.2103, Best MSE=325.4937 at index 2\n",
      "y - Avg MSE=378.0993, Best MSE=303.6479 at index 1\n",
      "w - Avg MSE=1184.7180, Best MSE=1079.2236 at index 0\n",
      "h - Avg MSE=1219.4911, Best MSE=1128.6614 at index 0\n",
      "Ended at 1732820228.7609026\n",
      "\n",
      "\n",
      "Training model RandomForestRegressor. Description: mins-10--minl-12\n",
      "Started at: 1732820228.7609026\n",
      "x - Avg MSE=397.3940, Best MSE=351.1129 at index 1\n",
      "y - Avg MSE=416.5318, Best MSE=354.3492 at index 1\n",
      "w - Avg MSE=1339.5527, Best MSE=1160.8976 at index 0\n",
      "h - Avg MSE=1183.3328, Best MSE=1035.9604 at index 0\n",
      "Ended at 1732820317.2819138\n",
      "\n",
      "\n",
      "Training model RandomForestRegressor. Description: mins-10--minl-14\n",
      "Started at: 1732820317.2819138\n",
      "x - Avg MSE=405.7671, Best MSE=366.9345 at index 1\n",
      "y - Avg MSE=453.3019, Best MSE=358.1850 at index 1\n",
      "w - Avg MSE=1431.9846, Best MSE=1267.7788 at index 0\n",
      "h - Avg MSE=1411.9118, Best MSE=1248.0829 at index 0\n",
      "Ended at 1732820399.369049\n"
     ]
    }
   ],
   "source": [
    "rfr_grid1_exp = grid_search(ModelClass=RandomForestRegressor, \n",
    "                            hyper_params=rfr_grid1, \n",
    "                            hyper_param_names=[\"mins\", \"minl\"], \n",
    "                            kwarg_names=[\"min_samples_split\", \"min_samples_leaf\"],\n",
    "                            n_estimators=50,    # TODO: Subject to change\n",
    "                            max_depth=17)"
   ]
  },
  {
   "cell_type": "code",
   "execution_count": 51,
   "id": "dc87fc21-255e-494f-94a2-41b7a69b9386",
   "metadata": {
    "ExecuteTime": {
     "end_time": "2024-11-28T19:19:32.026883700Z",
     "start_time": "2024-11-28T19:19:31.881196700Z"
    }
   },
   "outputs": [],
   "source": [
    "with open(\"./save_models/RandomForestRegressor_mins-minl_1732820399369049.sav\", \"rb\") as rfr_grid1_exp_f:\n",
    "    rfr_grid1_exp_loaded = pickle.load(rfr_grid1_exp_f)"
   ]
  },
  {
   "cell_type": "code",
   "outputs": [],
   "source": [
    "Y_test = get_labels(data_type=\"Test\")\n",
    "X_test = get_images(data_type=\"Test\", image_names=Y_test[:,0])\n",
    "rfr_grid1_results = test(exp_list=rfr_grid1_exp_loaded, Y_test=Y_test, X_test=X_test)"
   ],
   "metadata": {
    "collapsed": false,
    "ExecuteTime": {
     "end_time": "2024-11-28T19:19:34.737322300Z",
     "start_time": "2024-11-28T19:19:32.627034700Z"
    }
   },
   "id": "d17f1a53e3545a1b",
   "execution_count": 52
  },
  {
   "cell_type": "code",
   "outputs": [
    {
     "data": {
      "text/plain": "[{'mins': 2, 'minl': 14, 'avg_mse': np.float64(1057.248578665347)},\n {'mins': 4, 'minl': 6, 'avg_mse': np.float64(1063.385488393176)},\n {'mins': 4, 'minl': 8, 'avg_mse': np.float64(1029.513257691789)},\n {'mins': 4, 'minl': 10, 'avg_mse': np.float64(1008.6793488795022)},\n {'mins': 4, 'minl': 12, 'avg_mse': np.float64(1084.6243709991268)},\n {'mins': 4, 'minl': 14, 'avg_mse': np.float64(1091.1116916882079)},\n {'mins': 6, 'minl': 6, 'avg_mse': np.float64(1043.2612150722418)},\n {'mins': 6, 'minl': 8, 'avg_mse': np.float64(996.6544597092501)},\n {'mins': 6, 'minl': 10, 'avg_mse': np.float64(1013.7592925195522)},\n {'mins': 6, 'minl': 12, 'avg_mse': np.float64(1083.9989861699228)},\n {'mins': 6, 'minl': 14, 'avg_mse': np.float64(1044.7343139650568)},\n {'mins': 8, 'minl': 6, 'avg_mse': np.float64(1017.6530954023252)},\n {'mins': 8, 'minl': 8, 'avg_mse': np.float64(1082.7409997327889)},\n {'mins': 8, 'minl': 10, 'avg_mse': np.float64(1046.5079053489394)},\n {'mins': 8, 'minl': 12, 'avg_mse': np.float64(1124.8710506639716)},\n {'mins': 8, 'minl': 14, 'avg_mse': np.float64(1067.7014327455831)},\n {'mins': 10, 'minl': 6, 'avg_mse': np.float64(1011.7142474671281)},\n {'mins': 10, 'minl': 8, 'avg_mse': np.float64(1093.1576477723797)},\n {'mins': 10, 'minl': 10, 'avg_mse': np.float64(1092.214004125428)},\n {'mins': 10, 'minl': 12, 'avg_mse': np.float64(1055.4771369047673)},\n {'mins': 10, 'minl': 14, 'avg_mse': np.float64(1130.7229538885092)}]"
     },
     "execution_count": 53,
     "metadata": {},
     "output_type": "execute_result"
    }
   ],
   "source": [
    "rfr_grid1_results"
   ],
   "metadata": {
    "collapsed": false,
    "ExecuteTime": {
     "end_time": "2024-11-28T19:19:36.409441600Z",
     "start_time": "2024-11-28T19:19:36.397164Z"
    }
   },
   "id": "3bc687125c9441f6",
   "execution_count": 53
  },
  {
   "cell_type": "code",
   "outputs": [
    {
     "data": {
      "text/plain": "{'mins': 6, 'minl': 8, 'avg_mse': np.float64(996.6544597092501)}"
     },
     "execution_count": 55,
     "metadata": {},
     "output_type": "execute_result"
    }
   ],
   "source": [
    "rfr_grid1_best = min(rfr_grid1_results, key=lambda x: x[\"avg_mse\"])\n",
    "rfr_grid1_best"
   ],
   "metadata": {
    "collapsed": false,
    "ExecuteTime": {
     "end_time": "2024-11-28T19:19:59.316864800Z",
     "start_time": "2024-11-28T19:19:59.308145500Z"
    }
   },
   "id": "dc675aa46abab0af",
   "execution_count": 55
  },
  {
   "cell_type": "code",
   "outputs": [],
   "source": [],
   "metadata": {
    "collapsed": false
   },
   "id": "8f879e75b3e59ca6"
  }
 ],
 "metadata": {
  "kernelspec": {
   "display_name": "Python 3 (ipykernel)",
   "language": "python",
   "name": "python3"
  },
  "language_info": {
   "codemirror_mode": {
    "name": "ipython",
    "version": 3
   },
   "file_extension": ".py",
   "mimetype": "text/x-python",
   "name": "python",
   "nbconvert_exporter": "python",
   "pygments_lexer": "ipython3",
   "version": "3.12.7"
  }
 },
 "nbformat": 4,
 "nbformat_minor": 5
}
